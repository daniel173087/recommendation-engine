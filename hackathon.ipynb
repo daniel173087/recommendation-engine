{
 "cells": [
  {
   "cell_type": "markdown",
   "metadata": {},
   "source": [
    "1. mapping von component_id über alle Kategorien auf die document_id --> alle documents die zu einer componet"
   ]
  }
 ],
 "metadata": {
  "language_info": {
   "name": "python"
  }
 },
 "nbformat": 4,
 "nbformat_minor": 2
}
